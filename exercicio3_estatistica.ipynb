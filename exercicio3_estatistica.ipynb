{
  "nbformat": 4,
  "nbformat_minor": 0,
  "metadata": {
    "colab": {
      "provenance": []
    },
    "kernelspec": {
      "name": "python3",
      "display_name": "Python 3"
    },
    "language_info": {
      "name": "python"
    }
  },
  "cells": [
    {
      "cell_type": "markdown",
      "source": [
        "3. Em certo jogo, probabilidade de vitória (sucesso) a cada nova jogada é 1/6. Se forem feitas 10 jogadas, quais são as seguintes probabilidades:\n",
        "\n",
        "> a) Ter vitória em 4 jogadas.\n",
        "\n",
        "> b) Ter vitória em pelo menos 7 jogadas.\n",
        "\n",
        "\n",
        "\n"
      ],
      "metadata": {
        "id": "lmznwZtFboPD"
      }
    },
    {
      "cell_type": "markdown",
      "source": [
        "a) Neste caso, você está interessado em calcular a probabilidade de obter exatamente 4 vitórias em 10 jogadas, onde a probabilidade de vitória em cada jogada é 1/6.\n",
        "\n",
        "A fórmula da distribuição binomial para a probabilidade de obter k sucessos em n tentativas é:\n",
        "\n",
        "![distribuicao-binomial-formula.png](data:image/png;base64,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)"
      ],
      "metadata": {
        "id": "h_F43nedcuBI"
      }
    },
    {
      "cell_type": "markdown",
      "source": [
        "* P(X=k) é a probabilidade de obter exatamente k sucessos.\n",
        "* n é o número total de tentativas (neste caso, 10 jogadas).\n",
        "* k é o número de sucessos desejados (neste caso, 4 vitórias).\n",
        "* p é a probabilidade de sucesso em uma única tentativa."
      ],
      "metadata": {
        "id": "5EJJ8wcad3ON"
      }
    },
    {
      "cell_type": "code",
      "execution_count": 2,
      "metadata": {
        "id": "GueBTgAaaYjM"
      },
      "outputs": [],
      "source": [
        "from scipy.stats import binom"
      ]
    },
    {
      "cell_type": "code",
      "source": [
        "# Número total de jogadas\n",
        "n = 10\n",
        "\n",
        "# Número de vitórias desejadas\n",
        "k = 4\n",
        "\n",
        "# Probabilidade de vitória em cada jogada\n",
        "p = 1/6\n",
        "\n",
        "# Calcula a probabilidade usando binom.pmf\n",
        "probabilidade = binom.pmf(k, n, p)\n",
        "\n",
        "print(f'A probabilidade de ter exatamente 4 vitórias em 10 jogadas é: {probabilidade:.4f}, ou {probabilidade*100:.4f} %')\n"
      ],
      "metadata": {
        "colab": {
          "base_uri": "https://localhost:8080/"
        },
        "id": "pdNMrh6FefiW",
        "outputId": "af27a0a0-ed5e-4788-8c74-022601fa9a28"
      },
      "execution_count": 5,
      "outputs": [
        {
          "output_type": "stream",
          "name": "stdout",
          "text": [
            "A probabilidade de ter exatamente 4 vitórias em 10 jogadas é: 0.0543, ou 5.4266 %\n"
          ]
        }
      ]
    },
    {
      "cell_type": "markdown",
      "source": [
        "b) Neste caso, você está interessado em calcular a probabilidade de ter pelo menos 7 vitórias em 10 jogadas. Isso inclui os casos em que há 7, 8, 9 ou 10 vitórias.\n",
        "\n",
        "Para calcular essa probabilidade, você pode somar as probabilidades de cada cenário.\n",
        "\n",
        "**P(X≥7)=P(X=7)+P(X=8)+P(X=9)+P(X=10)**"
      ],
      "metadata": {
        "id": "ORBuGCXnfRrI"
      }
    },
    {
      "cell_type": "code",
      "source": [
        "# Número total de jogadas\n",
        "n = 10\n",
        "\n",
        "# Número de vitórias desejadas\n",
        "k = 7\n",
        "\n",
        "# Probabilidade de vitória em cada jogada\n",
        "p = 1/6\n",
        "\n",
        "# Calcula a probabilidade usando binom.pmf\n",
        "probabilidade7 = binom.pmf(k, n, p)\n",
        "\n",
        "print(f'A probabilidade de ter exatamente 7 vitórias em 10 jogadas é: {probabilidade7:.4f}, ou {probabilidade7*100:.4f} %')"
      ],
      "metadata": {
        "colab": {
          "base_uri": "https://localhost:8080/"
        },
        "id": "lLd8jbm3fhxC",
        "outputId": "854e5598-3139-4a08-d333-0789b3fd0ed0"
      },
      "execution_count": 7,
      "outputs": [
        {
          "output_type": "stream",
          "name": "stdout",
          "text": [
            "A probabilidade de ter exatamente 7 vitórias em 10 jogadas é: 0.0002, ou 0.0248 %\n"
          ]
        }
      ]
    },
    {
      "cell_type": "code",
      "source": [
        "# Número total de jogadas\n",
        "n = 10\n",
        "\n",
        "# Número de vitórias desejadas\n",
        "k = 8\n",
        "\n",
        "# Probabilidade de vitória em cada jogada\n",
        "p = 1/6\n",
        "\n",
        "# Calcula a probabilidade usando binom.pmf\n",
        "probabilidade8 = binom.pmf(k, n, p)\n",
        "\n",
        "print(f'A probabilidade de ter exatamente 8 vitórias em 10 jogadas é: {probabilidade8:.4f}, ou {probabilidade8*100:.4f} %')"
      ],
      "metadata": {
        "colab": {
          "base_uri": "https://localhost:8080/"
        },
        "id": "fQG5SWdZf9u0",
        "outputId": "d14ded49-3949-4650-bfa5-dd0481b04f25"
      },
      "execution_count": 8,
      "outputs": [
        {
          "output_type": "stream",
          "name": "stdout",
          "text": [
            "A probabilidade de ter exatamente 8 vitórias em 10 jogadas é: 0.0000, ou 0.0019 %\n"
          ]
        }
      ]
    },
    {
      "cell_type": "code",
      "source": [
        "# Número total de jogadas\n",
        "n = 10\n",
        "\n",
        "# Número de vitórias desejadas\n",
        "k = 9\n",
        "\n",
        "# Probabilidade de vitória em cada jogada\n",
        "p = 1/6\n",
        "\n",
        "# Calcula a probabilidade usando binom.pmf\n",
        "probabilidade9 = binom.pmf(k, n, p)\n",
        "\n",
        "print(f'A probabilidade de ter exatamente 9 vitórias em 10 jogadas é: {probabilidade9:.4f}, ou {probabilidade9*100:.4f} %')"
      ],
      "metadata": {
        "colab": {
          "base_uri": "https://localhost:8080/"
        },
        "id": "gwUcEDSMgJP7",
        "outputId": "aae34939-1548-4f00-9634-11445056b0e6"
      },
      "execution_count": 9,
      "outputs": [
        {
          "output_type": "stream",
          "name": "stdout",
          "text": [
            "A probabilidade de ter exatamente 9 vitórias em 10 jogadas é: 0.0000, ou 0.0001 %\n"
          ]
        }
      ]
    },
    {
      "cell_type": "code",
      "source": [
        "# Número total de jogadas\n",
        "n = 10\n",
        "\n",
        "# Número de vitórias desejadas\n",
        "k = 10\n",
        "\n",
        "# Probabilidade de vitória em cada jogada\n",
        "p = 1/6\n",
        "\n",
        "# Calcula a probabilidade usando binom.pmf\n",
        "probabilidade10 = binom.pmf(k, n, p)\n",
        "\n",
        "print(f'A probabilidade de ter exatamente 10 vitórias em 10 jogadas é: {probabilidade10:.4f}, ou {probabilidade10*100:.4f} %')"
      ],
      "metadata": {
        "colab": {
          "base_uri": "https://localhost:8080/"
        },
        "id": "5WUT15DvgPVp",
        "outputId": "63fd8d58-4d97-43b3-a674-b7f6f7314738"
      },
      "execution_count": 10,
      "outputs": [
        {
          "output_type": "stream",
          "name": "stdout",
          "text": [
            "A probabilidade de ter exatamente 10 vitórias em 10 jogadas é: 0.0000, ou 0.0000 %\n"
          ]
        }
      ]
    },
    {
      "cell_type": "code",
      "source": [
        "b = probabilidade7 + probabilidade8 + probabilidade9 + probabilidade10\n",
        "\n",
        "print(f'A probabilidade de ter vitória em pelo menos 7 vitórias em 10 jogadas é {b:.4f}, ou {b*100:.4f} %')"
      ],
      "metadata": {
        "colab": {
          "base_uri": "https://localhost:8080/"
        },
        "id": "llQiFT8ZgWu9",
        "outputId": "8ed09c37-7a26-4fa9-fd55-4f76f34d6fa5"
      },
      "execution_count": 12,
      "outputs": [
        {
          "output_type": "stream",
          "name": "stdout",
          "text": [
            "A probabilidade de ter vitória em pelo menos 7 vitórias em 10 jogadas é 0.0003, ou 0.0268 %\n"
          ]
        }
      ]
    }
  ]
}