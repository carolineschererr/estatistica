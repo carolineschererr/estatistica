{
  "nbformat": 4,
  "nbformat_minor": 0,
  "metadata": {
    "colab": {
      "provenance": []
    },
    "kernelspec": {
      "name": "python3",
      "display_name": "Python 3"
    },
    "language_info": {
      "name": "python"
    }
  },
  "cells": [
    {
      "cell_type": "markdown",
      "source": [
        "4. Suponha que um aluno acerte três questões a cada cinco testes.\n",
        "Seja X o número de tentativas até o décimo segundo acerto. Determine a probabilidade de que o aluno precise fazer 20 questões para acertar 12."
      ],
      "metadata": {
        "id": "pQSOrIbMmKPM"
      }
    },
    {
      "cell_type": "code",
      "execution_count": 10,
      "metadata": {
        "id": "46INJDczjN72"
      },
      "outputs": [],
      "source": [
        "from math import factorial"
      ]
    },
    {
      "cell_type": "code",
      "source": [
        "# Número de tentativas necessárias até 12 acertos\n",
        "x = 20\n",
        "\n",
        "# Probabilidade de acertar uma questão em uma tentativa (60%), ou 3/5 (3 a cada 5 testes)\n",
        "p = 0.6\n",
        "\n",
        "# Número de sucessos desejados\n",
        "k = 12\n",
        "\n",
        "# Cálculo da probabilidade usando a fórmula\n",
        "probabilidade = (factorial(x - 1) / (factorial(k - 1) * factorial(x - k))) * (p ** k) * ((1 - p) ** (x - k))\n",
        "\n",
        "print(f'A probabilidade de precisar de 20 tentativas para acertar 12 é {probabilidade:.4f}, ou {probabilidade*100:.4f} %')"
      ],
      "metadata": {
        "colab": {
          "base_uri": "https://localhost:8080/"
        },
        "id": "SsGrUE6CjSzt",
        "outputId": "5b094088-7309-4125-b2d8-4bc2bee96ff9"
      },
      "execution_count": 15,
      "outputs": [
        {
          "output_type": "stream",
          "name": "stdout",
          "text": [
            "A probabilidade de precisar de 20 tentativas para acertar 12 é 0.1078, ou 10.7823 %\n"
          ]
        }
      ]
    }
  ]
}