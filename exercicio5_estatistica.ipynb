{
  "nbformat": 4,
  "nbformat_minor": 0,
  "metadata": {
    "colab": {
      "provenance": []
    },
    "kernelspec": {
      "name": "python3",
      "display_name": "Python 3"
    },
    "language_info": {
      "name": "python"
    }
  },
  "cells": [
    {
      "cell_type": "markdown",
      "source": [
        "5. Suponha que, em determinado hospital, 3 clientes são operados diariamente de cirurgia do estômago, seguindo uma distribuição Poisson. Calcule a probabilidade de que 28 clientes sejam operados na próxima semana (7 dias úteis).\n"
      ],
      "metadata": {
        "id": "G06FEX6oTBp8"
      }
    },
    {
      "cell_type": "markdown",
      "source": [
        "A fórmula da distribuição de Poisson descreve a probabilidade de um certo número de eventos ocorrerem em um intervalo de tempo ou espaço específico, quando os eventos são raros e independentes e a média de ocorrências por intervalo é conhecida.\n",
        "\n",
        "A fórmula da distribuição de Poisson é:\n",
        "\n",
        "![distribuicao-poisson-formula.png](data:image/png;base64,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)\n",
        "\n",
        "* P(X=k) é a probabilidade de ocorrerem exatamente k eventos no intervalo de interesse.\n",
        "* e é o número de Euler, que é aproximadamente igual a 2,71828.\n",
        "* λ é a média de ocorrências de eventos no intervalo de interesse.\n",
        "* k é o número de eventos que você deseja calcular a probabilidade de ocorrer."
      ],
      "metadata": {
        "id": "WPlu4ts_TNgL"
      }
    },
    {
      "cell_type": "code",
      "execution_count": 1,
      "metadata": {
        "id": "xMUvFcsiSTRE"
      },
      "outputs": [],
      "source": [
        "import math"
      ]
    },
    {
      "cell_type": "code",
      "source": [
        "t = 3\n",
        "e = math.e #numero de euler\n",
        "k = 28//7 # calcula a ocorrência em um dia, que é 4. // é para divisão inteira\n",
        "\n",
        "probabilidade = ((e**-t) * (t**k)) / math.factorial(k)\n",
        "\n",
        "print(f'A probabilidade de que 28 pacientes sejam operados em uma semana é {probabilidade:.4f}, ou {probabilidade*100:.4f} %')"
      ],
      "metadata": {
        "colab": {
          "base_uri": "https://localhost:8080/"
        },
        "id": "ZiR83BLwSgGx",
        "outputId": "e1e0dfe5-7cfe-48e5-d5b7-95315ccfe958"
      },
      "execution_count": 8,
      "outputs": [
        {
          "output_type": "stream",
          "name": "stdout",
          "text": [
            "A probabilidade de que 28 pacientes sejam operados em uma semana é 0.1680, ou 16.8031 %\n"
          ]
        }
      ]
    }
  ]
}