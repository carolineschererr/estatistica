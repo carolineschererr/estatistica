{
  "nbformat": 4,
  "nbformat_minor": 0,
  "metadata": {
    "colab": {
      "provenance": []
    },
    "kernelspec": {
      "name": "python3",
      "display_name": "Python 3"
    },
    "language_info": {
      "name": "python"
    }
  },
  "cells": [
    {
      "cell_type": "markdown",
      "source": [
        "6. Nos últimos meses, foram feitas medições do tempo decorrido entre o início e\n",
        "finalização de uma das etapas do processo de produção de certo produto. O tempo médio foi calculado em 26,5 minutos e o desvio padrão foi de 4,0 minutos. Sabendo que tal variável segue uma distribuição normal, identifique as seguintes informações:\n",
        "\n",
        "> a) P(X>37)\n",
        "\n",
        "> b) P(X<20)\n",
        "\n",
        "> c) P(22<X<28)"
      ],
      "metadata": {
        "id": "A60V5TLvW2dt"
      }
    },
    {
      "cell_type": "code",
      "execution_count": null,
      "metadata": {
        "id": "EzcT3tH4WygT"
      },
      "outputs": [],
      "source": [
        "from scipy.stats import norm\n",
        "import matplotlib.pyplot as plt\n",
        "import numpy as np"
      ]
    },
    {
      "cell_type": "code",
      "source": [
        "media = 26.5\n",
        "desvio_padrao = 4"
      ],
      "metadata": {
        "id": "5zH_3KcogjkS"
      },
      "execution_count": null,
      "outputs": []
    },
    {
      "cell_type": "code",
      "source": [
        "valor_da_variavel = 37"
      ],
      "metadata": {
        "id": "3LoQJMaZXgvR"
      },
      "execution_count": null,
      "outputs": []
    },
    {
      "cell_type": "code",
      "source": [
        "z = +(valor_da_variavel - media) / desvio_padrao"
      ],
      "metadata": {
        "id": "XqfV7KOaYTT_"
      },
      "execution_count": null,
      "outputs": []
    },
    {
      "cell_type": "code",
      "source": [
        "z"
      ],
      "metadata": {
        "colab": {
          "base_uri": "https://localhost:8080/"
        },
        "id": "D3Xd8cfcc4rr",
        "outputId": "3c8ddd9b-c6d5-42df-fad3-801578a82d3c"
      },
      "execution_count": null,
      "outputs": [
        {
          "output_type": "execute_result",
          "data": {
            "text/plain": [
              "2.625"
            ]
          },
          "metadata": {},
          "execution_count": 39
        }
      ]
    },
    {
      "cell_type": "markdown",
      "source": [
        "A probabilidade P(Z>2.625) representa a probabilidade de obter um valor na distribuição normal padrão que está acima de 2.625 desvios padrão acima da média. Isso significa que você está calculando a probabilidade da cauda direita da distribuição normal padrão a partir de 2.625 desvios padrão acima da média."
      ],
      "metadata": {
        "id": "m6CY5N8afW_c"
      }
    },
    {
      "cell_type": "code",
      "source": [
        "valor_da_variavel = 20\n",
        "\n",
        "z = +(valor_da_variavel - media) / desvio_padrao\n",
        "\n",
        "z"
      ],
      "metadata": {
        "colab": {
          "base_uri": "https://localhost:8080/"
        },
        "id": "gblzDmnjdElc",
        "outputId": "8dbcdb6d-a8d4-4efd-ca74-f25103b040bc"
      },
      "execution_count": null,
      "outputs": [
        {
          "output_type": "execute_result",
          "data": {
            "text/plain": [
              "-1.625"
            ]
          },
          "metadata": {},
          "execution_count": 40
        }
      ]
    },
    {
      "cell_type": "markdown",
      "source": [
        "a probabilidade P(Z<−1.625) representa a probabilidade de obter um valor na distribuição normal padrão que está abaixo de 1.625 desvios padrão abaixo da média. Isso significa que você está calculando a probabilidade da cauda esquerda da distribuição normal padrão a partir de 1.625 desvios padrão abaixo da média."
      ],
      "metadata": {
        "id": "WzbC0eQ5fqZh"
      }
    },
    {
      "cell_type": "code",
      "source": [
        "# Probabilidade P(Z > 2.625)\n",
        "probabilidade1 = 1 - norm.cdf(2.625)\n",
        "\n",
        "# Probabilidade P(Z < -1.625)\n",
        "probabilidade2 = norm.cdf(-1.625)\n",
        "\n",
        "print(f'P(Z > 2.625): {probabilidade1:.4f}')\n",
        "print(f'P(Z < -1.625): {probabilidade2:.4f}')"
      ],
      "metadata": {
        "colab": {
          "base_uri": "https://localhost:8080/"
        },
        "id": "xart-_vhf7IP",
        "outputId": "93cec5da-e907-4096-a1bd-eff2763bc8ad"
      },
      "execution_count": null,
      "outputs": [
        {
          "output_type": "stream",
          "name": "stdout",
          "text": [
            "P(Z > 2.625): 0.0043\n",
            "P(Z < -1.625): 0.0521\n"
          ]
        }
      ]
    },
    {
      "cell_type": "markdown",
      "source": [
        "## Para calcular P(22<X<28), primeiro se calcula o Z valor de 22, depois o z valor de 28."
      ],
      "metadata": {
        "id": "88mIOQXReEgZ"
      }
    },
    {
      "cell_type": "code",
      "source": [
        "valor_da_variavel = 22\n",
        "\n",
        "z22 = +(valor_da_variavel - media) / desvio_padrao\n",
        "\n",
        "z22"
      ],
      "metadata": {
        "colab": {
          "base_uri": "https://localhost:8080/"
        },
        "id": "XsBtEQ-DeQM3",
        "outputId": "89040d69-6c90-488a-c0b0-e4635910a36b"
      },
      "execution_count": null,
      "outputs": [
        {
          "output_type": "execute_result",
          "data": {
            "text/plain": [
              "-1.125"
            ]
          },
          "metadata": {},
          "execution_count": 44
        }
      ]
    },
    {
      "cell_type": "code",
      "source": [
        "valor_da_variavel = 28\n",
        "\n",
        "z28 = +(valor_da_variavel - media) / desvio_padrao\n",
        "\n",
        "z28"
      ],
      "metadata": {
        "colab": {
          "base_uri": "https://localhost:8080/"
        },
        "id": "4xrA1ABJeUlB",
        "outputId": "9198b0a9-4188-4fc4-f016-88448d7d0fcb"
      },
      "execution_count": null,
      "outputs": [
        {
          "output_type": "execute_result",
          "data": {
            "text/plain": [
              "0.375"
            ]
          },
          "metadata": {},
          "execution_count": 45
        }
      ]
    },
    {
      "cell_type": "code",
      "source": [
        "probabilidade22 = norm.cdf(z22)\n",
        "probabilidade28 = norm.cdf(z28)\n",
        "\n",
        "print(f'P(-1,125<Z<0,375)')\n",
        "print(f'{probabilidade22:.4f}')\n",
        "print(f'{probabilidade28:.4f}')"
      ],
      "metadata": {
        "colab": {
          "base_uri": "https://localhost:8080/"
        },
        "id": "HnIwVK-jhXRD",
        "outputId": "9851b8d7-72fd-4e4e-bafd-1f031d3f31bc"
      },
      "execution_count": null,
      "outputs": [
        {
          "output_type": "stream",
          "name": "stdout",
          "text": [
            "P(-1,125<Z<0,375)\n",
            "0.1303\n",
            "0.6462\n"
          ]
        }
      ]
    },
    {
      "cell_type": "markdown",
      "source": [
        "Para calcular a probabilidade de o evento estar dentro do intervalo específico, soma-se as probabilidades.\n",
        "\n",
        "Então, P(-1,125<Z<0,375) é 0.1303 + 0.6462, o que resulta em 0.7765, ou 77,65%."
      ],
      "metadata": {
        "id": "JQrjpZFXj9xI"
      }
    },
    {
      "cell_type": "code",
      "source": [
        "0.1303 + 0.6462"
      ],
      "metadata": {
        "id": "jRLuesH6kTOD",
        "outputId": "11c9990b-82c7-4026-e72c-ad35702733c3",
        "colab": {
          "base_uri": "https://localhost:8080/"
        }
      },
      "execution_count": null,
      "outputs": [
        {
          "output_type": "execute_result",
          "data": {
            "text/plain": [
              "0.7765"
            ]
          },
          "metadata": {},
          "execution_count": 50
        }
      ]
    }
  ]
}