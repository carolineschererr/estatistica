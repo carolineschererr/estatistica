{
  "nbformat": 4,
  "nbformat_minor": 0,
  "metadata": {
    "colab": {
      "provenance": []
    },
    "kernelspec": {
      "name": "python3",
      "display_name": "Python 3"
    },
    "language_info": {
      "name": "python"
    }
  },
  "cells": [
    {
      "cell_type": "markdown",
      "source": [
        "7. Um grupo de 60 leitores fez uma avaliação de três livros de romance e, ao final, escolheram uma das três opções. Teste a hipótese nula de que não há diferença na preferência dos leitores, ao nível de significância de 5%.\n",
        "\n",
        "![image.png](data:image/png;base64,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)"
      ],
      "metadata": {
        "id": "JOh9mtMIMdnD"
      }
    },
    {
      "cell_type": "markdown",
      "source": [
        "A hipótese nula é de que não há diferença na distribuição de preferência entre os livros, ou seja: Livro A, B e C têm 20 opções cada.\n",
        "\n",
        "Se houver diferença, significa que a hipótese nula foi rejeitada."
      ],
      "metadata": {
        "id": "y6hrtqKZM7gy"
      }
    },
    {
      "cell_type": "code",
      "execution_count": 1,
      "metadata": {
        "id": "xgFLKDJIMahq"
      },
      "outputs": [],
      "source": [
        "import math\n",
        "from scipy.stats import chi2\n",
        "import matplotlib.pyplot as plt\n",
        "import numpy as np"
      ]
    },
    {
      "cell_type": "code",
      "source": [
        "feq_ob_a = 29\n",
        "feq_ob_b = 15\n",
        "feq_ob_c = 16\n",
        "total_feq_ob = 60"
      ],
      "metadata": {
        "id": "EA3YJQ9CPHNX"
      },
      "execution_count": 2,
      "outputs": []
    },
    {
      "cell_type": "code",
      "source": [
        "feq_esp_a = 20\n",
        "feq_esp_b = 20\n",
        "feq_esp_c = 20"
      ],
      "metadata": {
        "id": "TrHQvGWSPqXE"
      },
      "execution_count": 3,
      "outputs": []
    },
    {
      "cell_type": "markdown",
      "source": [
        "Para chegar-se à Estatística Qui-Quadrado, deve-se seguir a seguinte fórmula:\n",
        "\n",
        "qui_quadrado = (frequencia_observada - frequencia_esperada) ^ 2 / frequencia_esperada."
      ],
      "metadata": {
        "id": "cDAAhjrHPz-7"
      }
    },
    {
      "cell_type": "code",
      "source": [
        "# Qui-quadrado do Livro A\n",
        "\n",
        "qui_a = (feq_ob_a - feq_esp_a) ** 2 / feq_esp_a\n",
        "\n",
        "qui_a"
      ],
      "metadata": {
        "colab": {
          "base_uri": "https://localhost:8080/"
        },
        "id": "mzYnve2VQNC0",
        "outputId": "2d898276-eb4a-4056-bdf2-47c00222d77f"
      },
      "execution_count": 4,
      "outputs": [
        {
          "output_type": "execute_result",
          "data": {
            "text/plain": [
              "4.05"
            ]
          },
          "metadata": {},
          "execution_count": 4
        }
      ]
    },
    {
      "cell_type": "code",
      "source": [
        "# Qui-quadrado do Livro B\n",
        "\n",
        "qui_b = (feq_ob_b - feq_esp_b) ** 2 / feq_esp_b\n",
        "\n",
        "qui_b"
      ],
      "metadata": {
        "colab": {
          "base_uri": "https://localhost:8080/"
        },
        "id": "IPzlKo5VQprx",
        "outputId": "3fa3c5de-5eab-44e1-8551-dd954ea32bb8"
      },
      "execution_count": 5,
      "outputs": [
        {
          "output_type": "execute_result",
          "data": {
            "text/plain": [
              "1.25"
            ]
          },
          "metadata": {},
          "execution_count": 5
        }
      ]
    },
    {
      "cell_type": "code",
      "source": [
        "# Qui-quadrado do Livro C\n",
        "\n",
        "qui_c = (feq_ob_c - feq_esp_c) ** 2 / feq_esp_c\n",
        "\n",
        "qui_c"
      ],
      "metadata": {
        "colab": {
          "base_uri": "https://localhost:8080/"
        },
        "id": "emdBuAH7QxHA",
        "outputId": "e311f7ee-fa3c-46b6-bbe3-2d08cd3c8c3f"
      },
      "execution_count": 6,
      "outputs": [
        {
          "output_type": "execute_result",
          "data": {
            "text/plain": [
              "0.8"
            ]
          },
          "metadata": {},
          "execution_count": 6
        }
      ]
    },
    {
      "cell_type": "code",
      "source": [
        "qui_soma = qui_a + qui_b + qui_c\n",
        "qui_soma"
      ],
      "metadata": {
        "colab": {
          "base_uri": "https://localhost:8080/"
        },
        "id": "3iVLuaavRBHH",
        "outputId": "6a59a5fb-6256-479e-9ead-0e6f649c3529"
      },
      "execution_count": 7,
      "outputs": [
        {
          "output_type": "execute_result",
          "data": {
            "text/plain": [
              "6.1"
            ]
          },
          "metadata": {},
          "execution_count": 7
        }
      ]
    },
    {
      "cell_type": "code",
      "source": [
        "# Nível de significância\n",
        "nivel_de_significancia = 0.05\n",
        "\n",
        "# Graus de liberdade\n",
        "graus_de_liberdade = 2\n",
        "\n",
        "# Calcular o valor crítico da distribuição qui-quadrado\n",
        "valor_critico = chi2.ppf(1 - nivel_de_significancia, df=graus_de_liberdade)\n",
        "\n",
        "print(f'Valor Crítico Qui²: {valor_critico:.4f}')"
      ],
      "metadata": {
        "colab": {
          "base_uri": "https://localhost:8080/"
        },
        "id": "EGaIIoYvSGxo",
        "outputId": "e4bfaa03-62e5-4638-caab-c5604e197e39"
      },
      "execution_count": 12,
      "outputs": [
        {
          "output_type": "stream",
          "name": "stdout",
          "text": [
            "Valor Crítico Qui²: 5.9915\n"
          ]
        }
      ]
    },
    {
      "cell_type": "code",
      "source": [
        "# Valor de estatística de teste\n",
        "valor_estatistica_teste = qui_soma\n",
        "\n",
        "# Graus de liberdade\n",
        "graus_de_liberdade = 2\n",
        "\n",
        "# Calcular o p-valor da distribuição qui-quadrado\n",
        "p_valor = 1 - chi2.cdf(valor_estatistica_teste, df=graus_de_liberdade)\n",
        "\n",
        "print(f'P-valor: {p_valor:.4f}')"
      ],
      "metadata": {
        "colab": {
          "base_uri": "https://localhost:8080/"
        },
        "id": "lCHlEieaT1mC",
        "outputId": "3b8e195c-5fdb-40f5-e6d4-5c833a32c2e9"
      },
      "execution_count": 14,
      "outputs": [
        {
          "output_type": "stream",
          "name": "stdout",
          "text": [
            "P-valor: 0.0474\n"
          ]
        }
      ]
    },
    {
      "cell_type": "markdown",
      "source": [
        "Como o valor calculado para a estatística Qui² é maior do que o valor crítico para o nível de significância de 5%, a H0 é rejeitada. Portanto, há diferenças nas preferências dos leitores."
      ],
      "metadata": {
        "id": "6y8XKBL9UUMR"
      }
    },
    {
      "cell_type": "code",
      "source": [
        "valor_estatistica_teste == valor_critico"
      ],
      "metadata": {
        "colab": {
          "base_uri": "https://localhost:8080/"
        },
        "id": "3nYc5ZkQUYo1",
        "outputId": "e5329be7-5945-4d2c-ee66-b3b166fb2bba"
      },
      "execution_count": 15,
      "outputs": [
        {
          "output_type": "execute_result",
          "data": {
            "text/plain": [
              "False"
            ]
          },
          "metadata": {},
          "execution_count": 15
        }
      ]
    }
  ]
}